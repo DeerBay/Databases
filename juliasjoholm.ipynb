{
 "cells": [
  {
   "cell_type": "code",
   "execution_count": 6,
   "metadata": {},
   "outputs": [
    {
     "name": "stdout",
     "output_type": "stream",
     "text": [
      "Connecting to database using URL string:\n",
      "mssql+pyodbc://?odbc_connect=DRIVER=ODBC+Driver+17+for+SQL+Server;SERVER=localhost;DATABASE=JuliaSjoholm;Trusted_Connection=yes \n",
      "\n",
      "Successfully connected to JuliaSjoholm!\n"
     ]
    }
   ],
   "source": [
    "# Kod tagen från SQLAlchemyDemo\n",
    "from sqlalchemy import create_engine\n",
    "from sqlalchemy.engine import URL\n",
    "from urllib.parse import unquote\n",
    "\n",
    "server_name   = \"localhost\"\n",
    "database_name = \"JuliaSjoholm\"\n",
    "\n",
    "connection_string = f\"DRIVER=ODBC Driver 17 for SQL Server;SERVER={server_name};DATABASE={database_name};Trusted_Connection=yes\"\n",
    "url_string        = URL.create(\"mssql+pyodbc\", query={\"odbc_connect\": connection_string})\n",
    "\n",
    "print('Connecting to database using URL string:')\n",
    "unquoted_url = unquote(str(url_string))\n",
    "print(unquoted_url, '\\n')\n",
    "\n",
    "try:    \n",
    "    engine = create_engine(url_string)\n",
    "    with engine.connect() as connection:\n",
    "        print(f'Successfully connected to {database_name}!')\n",
    "except Exception as e:\n",
    "    print('Error while connecting to database:\\n')\n",
    "    print(e)"
   ]
  },
  {
   "cell_type": "code",
   "execution_count": 9,
   "metadata": {},
   "outputs": [
    {
     "name": "stdout",
     "output_type": "stream",
     "text": [
      "Book Search : ma\n",
      "\n",
      "Boktitel:                     Lagersaldo:                   Butik:\n",
      "Mamman och den vilda bebin    0                             Lilla boken\n",
      "Mamman och den vilda bebin    0                             Mellan boken\n",
      "Mamman och den vilda bebin    2                             Stora boken\n",
      "Madicken                      0                             Lilla boken\n",
      "Madicken                      5                             Mellan boken\n",
      "select top 5\n",
      "\tb.Titel,\n",
      "\tls.Antal as 'Lagersaldo',\n",
      "\tbu.Namn as 'Butik'\n",
      "\n",
      "from\n",
      "\tBöcker b\n",
      "\tjoin LagerSaldo ls on b.ISBN13 = ls.ISBN13\n",
      "\tjoin Butiker bu on ls.ButiksId = bu.ID\n",
      "where \n",
      "    b.Titel like '%' + :search_string + '%'\n"
     ]
    }
   ],
   "source": [
    "from sqlalchemy import text\n",
    "\n",
    "search = input(\"Please enter a book title\")\n",
    "\n",
    "print(f\"Book Search : {search}\\n\")\n",
    "\n",
    "query = \"\"\"select top 5\n",
    "\tb.Titel,\n",
    "\tls.Antal as 'Lagersaldo',\n",
    "\tbu.Namn as 'Butik'\n",
    "\n",
    "from\n",
    "\tBöcker b\n",
    "\tjoin LagerSaldo ls on b.ISBN13 = ls.ISBN13\n",
    "\tjoin Butiker bu on ls.ButiksId = bu.ID\n",
    "where \n",
    "    b.Titel like '%' + :search_string + '%'\"\"\"\n",
    "    \n",
    "with engine.connect() as conn:    \n",
    "    result = conn.execute(text(query),{\"search_string\" : search} )\n",
    "\n",
    "    print(f\"{'Boktitel:'.ljust(30)}{'Lagersaldo:'.ljust(30)}{'Butik:'}\")\n",
    "    \n",
    "    for book in result:\n",
    "        print(f\"{str(book.Titel).ljust(30)}{str(book.Lagersaldo).ljust(30)}{book.Butik}\")\n",
    "\n",
    "    print(query)"
   ]
  },
  {
   "cell_type": "code",
   "execution_count": 3,
   "metadata": {},
   "outputs": [
    {
     "ename": "NameError",
     "evalue": "name 'session' is not defined",
     "output_type": "error",
     "traceback": [
      "\u001b[1;31m---------------------------------------------------------------------------\u001b[0m",
      "\u001b[1;31mNameError\u001b[0m                                 Traceback (most recent call last)",
      "Cell \u001b[1;32mIn[3], line 17\u001b[0m\n\u001b[0;32m     15\u001b[0m \u001b[38;5;28;01mif\u001b[39;00m \u001b[38;5;18m__name__\u001b[39m \u001b[38;5;241m==\u001b[39m \u001b[38;5;124m\"\u001b[39m\u001b[38;5;124m__main__\u001b[39m\u001b[38;5;124m\"\u001b[39m:\n\u001b[0;32m     16\u001b[0m     search_term \u001b[38;5;241m=\u001b[39m \u001b[38;5;28minput\u001b[39m(\u001b[38;5;124m\"\u001b[39m\u001b[38;5;124mAnge sökterm för boktitel: \u001b[39m\u001b[38;5;124m\"\u001b[39m)\n\u001b[1;32m---> 17\u001b[0m     \u001b[43msearch_books_by_title\u001b[49m\u001b[43m(\u001b[49m\u001b[43msearch_term\u001b[49m\u001b[43m)\u001b[49m\n",
      "Cell \u001b[1;32mIn[3], line 7\u001b[0m, in \u001b[0;36msearch_books_by_title\u001b[1;34m(search_query)\u001b[0m\n\u001b[0;32m      4\u001b[0m search_pattern \u001b[38;5;241m=\u001b[39m \u001b[38;5;124mf\u001b[39m\u001b[38;5;124m\"\u001b[39m\u001b[38;5;124m%\u001b[39m\u001b[38;5;132;01m{\u001b[39;00msearch_query\u001b[38;5;132;01m}\u001b[39;00m\u001b[38;5;124m%\u001b[39m\u001b[38;5;124m\"\u001b[39m\n\u001b[0;32m      6\u001b[0m \u001b[38;5;66;03m# Använder parameteriserad query för att skydda mot SQL-injection\u001b[39;00m\n\u001b[1;32m----> 7\u001b[0m books \u001b[38;5;241m=\u001b[39m \u001b[43msession\u001b[49m\u001b[38;5;241m.\u001b[39mquery(Bok)\u001b[38;5;241m.\u001b[39mfilter(Bok\u001b[38;5;241m.\u001b[39mTitel\u001b[38;5;241m.\u001b[39milike(search_pattern))\u001b[38;5;241m.\u001b[39mall()\n\u001b[0;32m      9\u001b[0m \u001b[38;5;28;01mfor\u001b[39;00m book \u001b[38;5;129;01min\u001b[39;00m books:\n\u001b[0;32m     10\u001b[0m     \u001b[38;5;28mprint\u001b[39m(\u001b[38;5;124mf\u001b[39m\u001b[38;5;124m\"\u001b[39m\u001b[38;5;124mBok Titel: \u001b[39m\u001b[38;5;132;01m{\u001b[39;00mbook\u001b[38;5;241m.\u001b[39mTitel\u001b[38;5;132;01m}\u001b[39;00m\u001b[38;5;124m\"\u001b[39m)\n",
      "\u001b[1;31mNameError\u001b[0m: name 'session' is not defined"
     ]
    }
   ],
   "source": [
    "def search_books_by_title(search_query):\n",
    "    \"\"\" Sök böcker baserat på titeln och visa deras lagerstatus. \"\"\"\n",
    "    # Skapa en söksträng som är säker mot SQL-injection\n",
    "    search_pattern = f\"%{search_query}%\"\n",
    "\n",
    "    # Använder parameteriserad query för att skydda mot SQL-injection\n",
    "    books = session.query(Bok).filter(Bok.Titel.ilike(search_pattern)).all()\n",
    "\n",
    "    for book in books:\n",
    "        print(f\"Bok Titel: {book.Titel}\")\n",
    "        for lager in book.lagersaldon:\n",
    "            print(f\"Butik ID: {lager.ButiksID}, Antal i lager: {lager.Antal}\")\n",
    "\n",
    "# Exempelanvändning av funktionen\n",
    "if __name__ == \"__main__\":\n",
    "    search_term = input(\"Ange sökterm för boktitel: \")\n",
    "    search_books_by_title(search_term)"
   ]
  }
 ],
 "metadata": {
  "kernelspec": {
   "display_name": "SQLAlchemyDemo-THSlrBiG",
   "language": "python",
   "name": "python3"
  },
  "language_info": {
   "codemirror_mode": {
    "name": "ipython",
    "version": 3
   },
   "file_extension": ".py",
   "mimetype": "text/x-python",
   "name": "python",
   "nbconvert_exporter": "python",
   "pygments_lexer": "ipython3",
   "version": "3.12.0"
  }
 },
 "nbformat": 4,
 "nbformat_minor": 2
}
