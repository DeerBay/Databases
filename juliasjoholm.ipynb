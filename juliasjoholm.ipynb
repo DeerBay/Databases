{
 "cells": [
  {
   "cell_type": "code",
   "execution_count": 1,
   "metadata": {},
   "outputs": [
    {
     "name": "stdout",
     "output_type": "stream",
     "text": [
      "Connecting to database using URL string:\n",
      "mssql+pyodbc://?odbc_connect=DRIVER=ODBC+Driver+17+for+SQL+Server;SERVER=localhost;DATABASE=JuliaSjoholm;UID=test;PWD=test \n",
      "\n",
      "Successfully connected to JuliaSjoholm!\n"
     ]
    }
   ],
   "source": [
    "# Kod tagen från Fredriks demo SQLAlchemyDemo\n",
    "from sqlalchemy import create_engine\n",
    "from sqlalchemy.engine import URL\n",
    "from urllib.parse import unquote\n",
    "\n",
    "# Server- och databasnamn\n",
    "server_name = \"localhost\"\n",
    "database_name = \"JuliaSjoholm\"\n",
    "\n",
    "# Skapar en anslutningssträng\n",
    "connection_string = f\"DRIVER=ODBC Driver 17 for SQL Server;SERVER={server_name};DATABASE={database_name};UID=test;PWD=test\"\n",
    "url_string = URL.create(\"mssql+pyodbc\", query={\"odbc_connect\": connection_string})\n",
    "\n",
    "print('Connecting to database using URL string:')\n",
    "unquoted_url = unquote(str(url_string))\n",
    "print(unquoted_url, '\\n')  \n",
    "\n",
    "# Försöker skapa en motor och ansluta till databasen\n",
    "try:\n",
    "    engine = create_engine(url_string)\n",
    "    with engine.connect() as connection:\n",
    "        print(f'Successfully connected to {database_name}!')\n",
    "except Exception as e:\n",
    "    print('Error while connecting to database:\\n')\n",
    "    print(e)\n"
   ]
  },
  {
   "cell_type": "code",
   "execution_count": 2,
   "metadata": {},
   "outputs": [
    {
     "name": "stdout",
     "output_type": "stream",
     "text": [
      "Book Search : ma\n",
      "\n",
      "Boktitel:                               Pris (SEK):    Butik:         Lagersaldo:\n",
      "Mamman och den vilda bebin              178.00         Lilla boken    0\n",
      "Mamman och den vilda bebin              178.00         Mellan boken   0\n",
      "Mamman och den vilda bebin              178.00         Stora boken    2\n",
      "Madicken                                136.00         Lilla boken    0\n",
      "Madicken                                136.00         Mellan boken   5\n",
      "Madicken                                136.00         Stora boken    25\n",
      "Max balja                               140.00         Lilla boken    0\n",
      "Max balja                               140.00         Mellan boken   0\n",
      "Max balja                               140.00         Stora boken    0\n",
      "Loranga, Masarin & Dartanjang           180.00         Lilla boken    15\n",
      "\n",
      "The Query:\n",
      "EXEC SearchTitles @SearchString = :search_string\n"
     ]
    }
   ],
   "source": [
    "from sqlalchemy import text\n",
    "\n",
    "search = input(\"Please enter a book title: \")\n",
    "\n",
    "print(f\"Book Search : {search}\\n\")\n",
    "# Frågan anropar stored proceduren istället för en direkt SQL-fråga\n",
    "query = text(\"EXEC SearchTitles @SearchString = :search_string\")\n",
    "\n",
    "with engine.connect() as conn:    \n",
    "    result = conn.execute(query, {\"search_string\" : search})\n",
    "\n",
    "    print(f\"{'Boktitel:'.ljust(40)}{'Pris (SEK):'.ljust(15)}{'Butik:'.ljust(15)}{'Lagersaldo:'}\")\n",
    "    \n",
    "    for book in result:\n",
    "        # Anpassa utskriften till resultatstrukturer som returneras från stored proceduren\n",
    "        print(f\"{book.Titel.ljust(40)}{str(book.Pris).ljust(15)}{book.Butik.ljust(15)}{book.Lagersaldo}\")\n",
    "\n",
    "    print()\n",
    "    print(f\"The Query:\\n{query}\")\n"
   ]
  }
 ],
 "metadata": {
  "kernelspec": {
   "display_name": "SQLAlchemyDemo-THSlrBiG",
   "language": "python",
   "name": "python3"
  },
  "language_info": {
   "codemirror_mode": {
    "name": "ipython",
    "version": 3
   },
   "file_extension": ".py",
   "mimetype": "text/x-python",
   "name": "python",
   "nbconvert_exporter": "python",
   "pygments_lexer": "ipython3",
   "version": "3.12.0"
  }
 },
 "nbformat": 4,
 "nbformat_minor": 2
}
